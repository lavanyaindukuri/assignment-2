{
 "cells": [
  {
   "cell_type": "code",
   "execution_count": 1,
   "id": "337c1e43",
   "metadata": {},
   "outputs": [
    {
     "ename": "SyntaxError",
     "evalue": "invalid syntax (638080556.py, line 2)",
     "output_type": "error",
     "traceback": [
      "\u001b[1;36m  File \u001b[1;32m\"C:\\Users\\lavanya\\AppData\\Local\\Temp\\ipykernel_11492\\638080556.py\"\u001b[1;36m, line \u001b[1;32m2\u001b[0m\n\u001b[1;33m    A. TRUE(=1) ,FALSE(=0)\u001b[0m\n\u001b[1;37m            ^\u001b[0m\n\u001b[1;31mSyntaxError\u001b[0m\u001b[1;31m:\u001b[0m invalid syntax\n"
     ]
    }
   ],
   "source": [
    "1.What are the two values of the Boolean data type? How do you write them?\n",
    "A. TRUE(=1) ,FALSE(=0)\n",
    "\n",
    "2. What are the three different types of Boolean operators?\n",
    "A. AND ,OR,NOT\n",
    "\n",
    "3. Make a list of each Boolean operator&#39;s truth tables (i.e. every possible combination of Boolean\n",
    "values for the operator and what it evaluate ).\n",
    "\n",
    "A.   A       B        AND        OR      NOT\n",
    "   FALSE   FALSE    FALSE      FALSE    TRUE\n",
    "   FALSE    TRUE    FALSE      TRUE     TRUE\n",
    "   TRUE    FALSE    FALSE      TRUE     FALSE\n",
    "   TRUE    TRUE     TRUE       TRUE     FALSE"
   ]
  },
  {
   "cell_type": "code",
   "execution_count": null,
   "id": "f470572b",
   "metadata": {},
   "outputs": [],
   "source": [
    "4. What are the values of the following expressions?\n",
    "(5 > 4) and (3 == 5)                    -TRUE\n",
    "not (5 > 4)                             -FALSE\n",
    "(5 > 4) or (3 == 5)                     -TRUE\n",
    "not ((5 > 4) or (3 == 5))               -FALSE\n",
    "(True and True) and (True == False)     -FALSE\n",
    "(not False) or (not True)               -TRUE"
   ]
  },
  {
   "cell_type": "code",
   "execution_count": null,
   "id": "2cd860fb",
   "metadata": {},
   "outputs": [],
   "source": [
    "5. What are the six comparison operators?\n",
    "A. <\n",
    "   >\n",
    "   <=\n",
    "   >=\n",
    "   ==\n",
    "   !=\n",
    "    \n",
    "6. How do you tell the difference between the equal to and assignment operators?Describe a\n",
    "condition and when you would use one.\n",
    "A . equals to : == (compares the two values. It returns 1 if both the values are equal otherwise 0)\n",
    "    eg:(3==3)\n",
    "    assignment : = (it assigns a value to the variable)\n",
    "     eg: a=10   "
   ]
  },
  {
   "cell_type": "code",
   "execution_count": 3,
   "id": "64d6fcd0",
   "metadata": {},
   "outputs": [
    {
     "name": "stdout",
     "output_type": "stream",
     "text": [
      "ham\n",
      "spam\n",
      "spam\n"
     ]
    }
   ],
   "source": [
    " 7.   spam = 0\n",
    "    if spam == 10 :\n",
    "        print('eggs')\n",
    "    if spam > 5:\n",
    "        print('bacon')\n",
    "    else :\n",
    "        print('ham')\n",
    "        print('spam')\n",
    "    print('spam')\n",
    "        "
   ]
  },
  {
   "cell_type": "code",
   "execution_count": 8,
   "id": "9a709fc8",
   "metadata": {},
   "outputs": [
    {
     "name": "stdout",
     "output_type": "stream",
     "text": [
      "5\n",
      "Greetings!\n"
     ]
    }
   ],
   "source": [
    "8.spam = int(input())\n",
    "if spam <=1:\n",
    "    print(\"hello\")\n",
    "elif spam ==2 :\n",
    "    print(\"howdy\")\n",
    "else :\n",
    "    print(\"Greetings!\")"
   ]
  },
  {
   "cell_type": "code",
   "execution_count": null,
   "id": "2cb10222",
   "metadata": {},
   "outputs": [],
   "source": [
    "9.If your programme is stuck in an endless loop, what keys you’ll press?\n",
    "A. crtl+c\n",
    "\n",
    "10. How can you tell the difference between break and continue?\n",
    "A. break - this statement breaks the program and leads to immediate exit.\n",
    "   continue - it causes the next iteration of the loop to run immediately."
   ]
  },
  {
   "cell_type": "code",
   "execution_count": 25,
   "id": "06bd77e1",
   "metadata": {},
   "outputs": [
    {
     "name": "stdout",
     "output_type": "stream",
     "text": [
      "0,1,2,3,4,5,6,7,8,9,\n"
     ]
    }
   ],
   "source": [
    "11.for i in range(10):\n",
    "        print(i,end=\",\")\n",
    "    print()    \n",
    "    \n",
    "    "
   ]
  },
  {
   "cell_type": "code",
   "execution_count": 26,
   "id": "c93e147b",
   "metadata": {},
   "outputs": [
    {
     "name": "stdout",
     "output_type": "stream",
     "text": [
      "0,1,2,3,4,5,6,7,8,9,\n"
     ]
    }
   ],
   "source": [
    "for i in range(0,10):\n",
    "    print(i,end=\",\")\n",
    "print()    \n",
    "  \n",
    "    "
   ]
  },
  {
   "cell_type": "code",
   "execution_count": 27,
   "id": "f3e668e8",
   "metadata": {},
   "outputs": [
    {
     "name": "stdout",
     "output_type": "stream",
     "text": [
      "0,1,2,3,4,5,6,7,8,9,\n"
     ]
    }
   ],
   "source": [
    "for i in range(0,10,1):\n",
    "    print(i,end=\",\")\n",
    "print()   "
   ]
  },
  {
   "cell_type": "code",
   "execution_count": null,
   "id": "de9c2f1f",
   "metadata": {},
   "outputs": [],
   "source": [
    "12. Write a short program that prints the numbers 1 to 10 using a for loop. Then write an equivalent\n",
    "program that prints the numbers 1 to 10 using a while loop.\n"
   ]
  },
  {
   "cell_type": "code",
   "execution_count": 31,
   "id": "1b7c10fb",
   "metadata": {},
   "outputs": [
    {
     "name": "stdout",
     "output_type": "stream",
     "text": [
      "0,1,2,3,4,5,6,7,8,9,\n"
     ]
    }
   ],
   "source": [
    "for i in range(10):\n",
    "        print(i,end=\",\")\n",
    "print() "
   ]
  },
  {
   "cell_type": "code",
   "execution_count": 34,
   "id": "ef66016f",
   "metadata": {},
   "outputs": [
    {
     "name": "stdout",
     "output_type": "stream",
     "text": [
      "0\n",
      "1\n",
      "2\n",
      "3\n",
      "4\n",
      "5\n",
      "6\n",
      "7\n",
      "8\n",
      "9\n"
     ]
    }
   ],
   "source": [
    "i=0\n",
    "while i<10:\n",
    "    print(i)\n",
    "    i=i+1   "
   ]
  },
  {
   "cell_type": "code",
   "execution_count": null,
   "id": "15219cc8",
   "metadata": {},
   "outputs": [],
   "source": [
    "13. If you had a function named bacon() inside a module named spam, how would you call it after\n",
    "importing spam?\n",
    "A. spam.bacon()"
   ]
  }
 ],
 "metadata": {
  "kernelspec": {
   "display_name": "Python 3 (ipykernel)",
   "language": "python",
   "name": "python3"
  },
  "language_info": {
   "codemirror_mode": {
    "name": "ipython",
    "version": 3
   },
   "file_extension": ".py",
   "mimetype": "text/x-python",
   "name": "python",
   "nbconvert_exporter": "python",
   "pygments_lexer": "ipython3",
   "version": "3.9.13"
  }
 },
 "nbformat": 4,
 "nbformat_minor": 5
}
